{
 "cells": [
  {
   "cell_type": "markdown",
   "metadata": {
    "collapsed": true
   },
   "source": [
    "### Roud-Robin 演算法\n",
    "Every process arrived at time 0"
   ]
  },
  {
   "cell_type": "code",
   "execution_count": 109,
   "metadata": {
    "collapsed": false
   },
   "outputs": [],
   "source": [
    "%matplotlib inline\n",
    "import sys\n",
    "import numpy as np\n",
    "import copy\n",
    "import seaborn as sns\n",
    "import matplotlib.pyplot as plt"
   ]
  },
  {
   "cell_type": "code",
   "execution_count": 121,
   "metadata": {
    "collapsed": false
   },
   "outputs": [
    {
     "name": "stdout",
     "output_type": "stream",
     "text": [
      "Enter numbers separated by space: 6 3 1 7\n",
      "Max time quantum: 15\n",
      "P 1  : 6\n",
      "P 2  : 3\n",
      "P 3  : 1\n",
      "P 4  : 7\n"
     ]
    }
   ],
   "source": [
    "user_input = raw_input(\"Enter numbers separated by space: \")\n",
    "user_input2 = raw_input(\"Max time quantum: \")\n",
    "time_quantum = range(1,int(user_input2)+1)\n",
    "average_turnaround_time = [0]*int(user_input2)\n",
    "input_list = user_input.split(' ')\n",
    "input_queue = [[i+1,int(x.strip())] for i,x in enumerate(input_list)]\n",
    "for data in numbers:\n",
    "    print 'P',data[0],' :',data[1]"
   ]
  },
  {
   "cell_type": "code",
   "execution_count": 124,
   "metadata": {
    "collapsed": false
   },
   "outputs": [],
   "source": [
    "def Roud_Robin(waiting_queue,time_quantum):\n",
    "#     print(waiting_queue)\n",
    "    finish_time = np.zeros(len(numbers),dtype=np.int)\n",
    "    time = 0\n",
    "    while len(waiting_queue)!=0:\n",
    "        select_process = waiting_queue.pop(0)\n",
    "        select_process[1]-=time_quantum\n",
    "        if select_process[1]<=0:# process complished precisely or eariler than usual\n",
    "            time = time + time_quantum + select_process[1]\n",
    "            finish_time[select_process[0]-1] = time\n",
    "        else:\n",
    "            time = time + time_quantum\n",
    "            waiting_queue.append(select_process)\n",
    "#         print(waiting_queue)\n",
    "#     print('-------------finish algorism------------------------')\n",
    "#     print 'turnaround time ',finish_time\n",
    "#     print 'average_turnaround_time',sum(finish_time)/float(len(finish_time))\n",
    "#     print ''\n",
    "    return sum(finish_time)/float(len(finish_time))\n",
    "for i in range(int(user_input2)):\n",
    "    waiting_queue = copy.deepcopy(input_queue)\n",
    "    average_turnaround_time[i] = Roud_Robin(waiting_queue,time_quantum[i])"
   ]
  },
  {
   "cell_type": "code",
   "execution_count": 125,
   "metadata": {
    "collapsed": false
   },
   "outputs": [
    {
     "data": {
      "image/png": "[encoded data removed]",
      "text/plain": [
       "<matplotlib.figure.Figure at 0xd100278>"
      ]
     },
     "metadata": {},
     "output_type": "display_data"
    }
   ],
   "source": [
    "ax = plt.plot(time_quantum,average_turnaround_time)\n",
    "plt.ylabel('average_turnaround_time')\n",
    "plt.xlabel('time_quantum')\n",
    "plt.show()"
   ]
  },
  {
   "cell_type": "code",
   "execution_count": 120,
   "metadata": {
    "collapsed": false
   },
   "outputs": [
    {
     "data": {
      "text/plain": [
       "[1, 2, 3, 4, 5, 6, 7, 8, 9, 10, 11, 12, 13, 14]"
      ]
     },
     "execution_count": 120,
     "metadata": {},
     "output_type": "execute_result"
    }
   ],
   "source": [
    "time_quantum"
   ]
  },
  {
   "cell_type": "markdown",
   "metadata": {},
   "source": [
    "### Prediction of the Length of the next CPU burst"
   ]
  },
  {
   "cell_type": "code",
   "execution_count": 135,
   "metadata": {
    "collapsed": false
   },
   "outputs": [
    {
     "name": "stdout",
     "output_type": "stream",
     "text": [
      "Enter numbers separated by space: 6 4 6 4 13 13 13\n"
     ]
    }
   ],
   "source": [
    "user_input_burst = raw_input(\"Enter numbers separated by space: \")\n",
    "user_input_burst = user_input_burst.split(' ')\n",
    "input_burst = [int(x.strip())for x in user_input_burst]"
   ]
  },
  {
   "cell_type": "code",
   "execution_count": 143,
   "metadata": {
    "collapsed": false
   },
   "outputs": [],
   "source": [
    "guess = np.zeros(len(input_burst)+1)\n",
    "guess[0] = 10\n",
    "alpha = 0.5\n",
    "for i in range(len(input_burst)):\n",
    "    guess[i+1] = alpha*input_burst[i]+(1-alpha)*guess[i]"
   ]
  },
  {
   "cell_type": "code",
   "execution_count": 152,
   "metadata": {
    "collapsed": false
   },
   "outputs": [
    {
     "data": {
      "text/plain": [
       "array([ 10.,   8.,   6.,   6.,   5.,   9.,  11.,  12.])"
      ]
     },
     "execution_count": 152,
     "metadata": {},
     "output_type": "execute_result"
    },
    {
     "data": {
      "image/png": "[encoded data removed]",
      "text/plain": [
       "<matplotlib.figure.Figure at 0xdb53710>"
      ]
     },
     "metadata": {},
     "output_type": "display_data"
    }
   ],
   "source": [
    "from scipy.interpolate import interp1d\n",
    "f2 = interp1d(range(len(input_burst)+1), guess, kind='cubic')\n",
    "xnew = np.linspace(0, len(input_burst), num=41, endpoint=True)\n",
    "plt.plot(xnew,f2(xnew))\n",
    "guess"
   ]
  },
  {
   "cell_type": "code",
   "execution_count": 153,
   "metadata": {
    "collapsed": false
   },
   "outputs": [
    {
     "data": {
      "text/plain": [
       "array([ 0.   ,  0.175,  0.35 ,  0.525,  0.7  ,  0.875,  1.05 ,  1.225,\n",
       "        1.4  ,  1.575,  1.75 ,  1.925,  2.1  ,  2.275,  2.45 ,  2.625,\n",
       "        2.8  ,  2.975,  3.15 ,  3.325,  3.5  ,  3.675,  3.85 ,  4.025,\n",
       "        4.2  ,  4.375,  4.55 ,  4.725,  4.9  ,  5.075,  5.25 ,  5.425,\n",
       "        5.6  ,  5.775,  5.95 ,  6.125,  6.3  ,  6.475,  6.65 ,  6.825,  7.   ])"
      ]
     },
     "execution_count": 153,
     "metadata": {},
     "output_type": "execute_result"
    }
   ],
   "source": [
    "xnew"
   ]
  },
  {
   "cell_type": "code",
   "execution_count": 154,
   "metadata": {
    "collapsed": false
   },
   "outputs": [
    {
     "data": {
      "text/plain": [
       "[0, 1, 2, 3, 4, 5, 6, 7]"
      ]
     },
     "execution_count": 154,
     "metadata": {},
     "output_type": "execute_result"
    }
   ],
   "source": [
    ""
   ]
  },
  {
   "cell_type": "code",
   "execution_count": null,
   "metadata": {
    "collapsed": true
   },
   "outputs": [],
   "source": [
    ""
   ]
  }
 ],
 "metadata": {
  "kernelspec": {
   "display_name": "Python 2",
   "language": "python",
   "name": "python2"
  },
  "language_info": {
   "codemirror_mode": {
    "name": "ipython",
    "version": 2.0
   },
   "file_extension": ".py",
   "mimetype": "text/x-python",
   "name": "python",
   "nbconvert_exporter": "python",
   "pygments_lexer": "ipython2",
   "version": "2.7.13"
  }
 },
 "nbformat": 4,
 "nbformat_minor": 0
}